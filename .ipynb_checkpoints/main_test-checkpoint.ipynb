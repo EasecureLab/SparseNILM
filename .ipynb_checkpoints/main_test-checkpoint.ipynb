{
 "cells": [
  {
   "cell_type": "code",
   "execution_count": 1,
   "metadata": {},
   "outputs": [],
   "source": [
    "import sys, json\n",
    "from statistics import mean\n",
    "from time import time\n",
    "from datetime import datetime\n",
    "from libDataLoaders import dataset_loader\n",
    "from libFolding import Folding\n",
    "from libPMF import EmpiricalPMF\n",
    "from libSSHMM import SuperStateHMM, frange\n",
    "from libAccuracy import Accuracy"
   ]
  },
  {
   "cell_type": "code",
   "execution_count": 2,
   "metadata": {},
   "outputs": [],
   "source": [
    "ε = 0.00021"
   ]
  },
  {
   "cell_type": "code",
   "execution_count": 3,
   "metadata": {},
   "outputs": [],
   "source": [
    "# python train_SSHMM.py BigO_L01 AMPdsR1_1min_A 10 200 noisy 4 1 BME \n",
    "modeldb = 'BigO_L01'\n",
    "dataset = 'AMPdsR1_1min_A'\n",
    "precision = float(10)\n",
    "max_obs = float(200)\n",
    "denoised = 'noisy' == 'denoised'\n",
    "max_states = int(4)\n",
    "folds = int(1)\n",
    "ids = 'BME'\n",
    "ids = ids.split(',')\n",
    "datasets_dir = './datasets/%s.csv'\n",
    "logs_dir = './logs/%s.log'\n",
    "models_dir = './models/%s.json'"
   ]
  },
  {
   "cell_type": "code",
   "execution_count": 4,
   "metadata": {},
   "outputs": [
    {
     "name": "stdout",
     "output_type": "stream",
     "text": [
      "Loading AMPds R1 dataset at ./datasets/AMPdsR1_1min_A.csv...\n",
      "\tSetting timestamp column TimeStamp as index.\n",
      "\tModfity data with precision 10.000000 then convert to int...\n",
      "\tKeeping only columns ['BME'].\n",
      "\tCalculating unmetered column UNE.\n",
      "\n",
      "Created 1 fold: 524544.\n"
     ]
    }
   ],
   "source": [
    "sshmms = []\n",
    "train_times = []\n",
    "folds = Folding(dataset_loader(datasets_dir % dataset, ids, precision, denoised), folds)"
   ]
  },
  {
   "cell_type": "code",
   "execution_count": 5,
   "metadata": {},
   "outputs": [
    {
     "name": "stdout",
     "output_type": "stream",
     "text": [
      "\n",
      "\n",
      "************************ VALIDATION ROUND:  1/ 1 ************************\n",
      "\n",
      "Building priors and testing datasets...\n",
      "\n",
      "Creating load PMFs and finding load states...\n",
      "\tMax partitions per load = 4\n",
      "\tPMF for BME: [403947, 39227, 10988, 1687, 427, 318, 243, 224, 1722, 120, 619, 142, 66, 5, 3, 2, 1, 4, 3, 7, 19, 32, 13, 4, 5, 98, 62, 93, 49902, 4865, 4152, 249, 1907, 701, 1133, 247, 323, 549, 166, 86, 150, 2, 18, 2, 0, 0, 0, 0, 0, 0, 0, 0, 0, 0, 0, 0, 0, 0, 0, 0, 0, 0, 0, 0, 0, 0, 0, 0, 0, 0, 0, 0, 0, 0, 0, 0, 0, 0, 0, 0, 0, 0, 0, 0, 0, 0, 0, 0, 0, 0, 0, 0, 0, 0, 0, 0, 0, 0, 0, 0, 0, 0, 0, 0, 0, 0, 0, 0, 2, 1, 0, 1, 0, 1, 1, 2, 0, 0, 0, 0, 0, 0, 1, 0, 0, 0, 0, 0, 0, 0, 0, 2]\n",
      "\tQuantize PMF: BME, epsilon = 0.00336\n",
      "\t\tS0:     0:    0, peak=    0,  403947 |t|\n",
      "\t\tS1:     1:    6, peak=    1,   52890 |t|\n",
      "\t\tS2:     7:   30, peak=   28,   62163 |t|\n",
      "\t\tS3:    31: 1999, peak=   32,    5544 |t|\n",
      "\n",
      "Creating compressed SSHMM...\n",
      "\tK = 4 super-states (a sum of 4 states), Km = [4].\n",
      "\tM = 1 with labels ['BME'], N = 2001 (0 to 200.0).\n",
      "\tConverting DataFrame in to obs/hidden lists...\n",
      "\tEnumerating hidden state events: P0, A, B.....................\n",
      "\tNormalizing vector P0...\n",
      "\tNormalizing matrix A...\n",
      "\tNormalizing matrix B...\n",
      "\tOptimization (Space) - Sparsity:\n",
      "\t\tP0[K]:       0.0% sparse, non-zero values =                4 /                               4.\n",
      "\t\tA[K,K]:      0.0% sparse, non-zero values =               16 /                              16.\n",
      "\t\tB[K,N]:    73.55% sparse, non-zero values =            2,117 /                           8,004.\n",
      "\tMemory Storage Requirements for Model:\n",
      "\t\tP0[K]:                     352 bytes.\n",
      "\t\tA[K,K]:                    288 bytes.\n",
      "\t\tB[K,N]:                  3,052 bytes.\n",
      "\t\tTOTAL---->               3,692 bytes.\n"
     ]
    }
   ],
   "source": [
    "for (fold, priors, testing) in folds: \n",
    "    del testing\n",
    "    tm_start = time()\n",
    "    \n",
    "    print()\n",
    "    print('Creating load PMFs and finding load states...')\n",
    "    print('\\tMax partitions per load =', max_states)\n",
    "    pmfs = []\n",
    "    for id in ids:\n",
    "        pmfs.append(EmpiricalPMF(id, max_obs * precision, list(priors[id])))\n",
    "        pmfs[-1].quantize(max_states, ε)\n",
    "\n",
    "    print()\n",
    "    print('Creating compressed SSHMM...')\n",
    "    incro = 1 / precision\n",
    "    sshmm = SuperStateHMM(pmfs, [i for i in frange(0, max_obs + incro, incro)])\n",
    "    \n",
    "    print('\\tConverting DataFrame in to obs/hidden lists...')\n",
    "    obs_id = list(priors)[0]\n",
    "    obs = list(priors[obs_id])\n",
    "    hidden = [i for i in priors[ids].to_records(index=False)]\n",
    "    \n",
    "    sshmm.build(obs, hidden)\n",
    "    sshmms.append(sshmm)\n",
    "    \n",
    "    train_times.append((time() - tm_start) / 60)"
   ]
  },
  {
   "cell_type": "code",
   "execution_count": 6,
   "metadata": {},
   "outputs": [
    {
     "name": "stdout",
     "output_type": "stream",
     "text": [
      "\n",
      "Train Time was 0.15  min (avg  0.15  min/fold).\n"
     ]
    }
   ],
   "source": [
    "print()\n",
    "print('Train Time was', round(sum(train_times), 2), ' min (avg ', round(sum(train_times) / len(train_times), 2), ' min/fold).')"
   ]
  },
  {
   "cell_type": "code",
   "execution_count": 7,
   "metadata": {},
   "outputs": [
    {
     "name": "stdout",
     "output_type": "stream",
     "text": [
      "Converting model BigO_L01 to JSON for storage in ./models/BigO_L01.json...\n"
     ]
    }
   ],
   "source": [
    "fn = models_dir % modeldb\n",
    "print('Converting model %s to JSON for storage in %s...' % (modeldb, fn))\n",
    "fp = open(fn, 'w')\n",
    "json.dump(sshmms, fp, default=(lambda o: o._asdict()), sort_keys=True, indent=None, separators=(',', ':'))\n",
    "fp.close()\n",
    "\n",
    "report = []\n",
    "report.append(['Model DB', modeldb])\n",
    "report.append(['Run Date', datetime.now()])\n",
    "report.append(['Dataset', dataset])\n",
    "report.append(['Precision', precision])\n",
    "report.append(['Max States', max_states])\n",
    "report.append(['Denoised?', denoised])\n",
    "report.append(['Model Noise?', ('UNE' in ids)])\n",
    "report.append(['Folds', folds.folds])\n",
    "report.append(['IDs', ' '.join(ids)])\n",
    "report.append(['Train Time', round(sum(train_times), 2)])\n",
    "report.append(['Avg Time/Fold', round(sum(train_times) / len(train_times), 2)])\n",
    "report.append(['Avg Load States', round(sum([mean(sshmm.Km) for sshmm in sshmms]) / len(sshmms), 1)])\n",
    "report.append(['Sum Load States', round(sum([sum(sshmm.Km) for sshmm in sshmms]) / len(sshmms), 1)])\n",
    "report.append(['Super-States', round(sum([sshmm.K for sshmm in sshmms]) / len(sshmms), 1)])\n",
    "report.append(['Loads', sshmms[0].M])\n",
    "report.append(['Obs', sshmms[0].N])\n",
    "report.append(['Time Len', folds.data_size])\n",
    "report.append(['P0 Size', round(sum([sshmm.P0.size() for sshmm in sshmms]) / len(sshmms), 1)])\n",
    "report.append(['P0 Non-Zero', round(sum([sshmm.P0.nonzero() for sshmm in sshmms]) / len(sshmms), 1)])\n",
    "report.append(['P0 Sparsity', round(sum([sshmm.P0.sparsity() for sshmm in sshmms]) / len(sshmms), 1)])\n",
    "report.append(['P0 bytes', round(sum([sshmm.P0.bytes() for sshmm in sshmms]) / len(sshmms), 1)])\n",
    "report.append(['A Size', round(sum([sshmm.A.size() for sshmm in sshmms]) / len(sshmms), 1)])\n",
    "report.append(['A Non-Zero', round(sum([sshmm.A.nonzero() for sshmm in sshmms]) / len(sshmms), 1)])\n",
    "report.append(['A Sparsity', round(sum([sshmm.A.sparsity() for sshmm in sshmms]) / len(sshmms), 1)])\n",
    "report.append(['A bytes', round(sum([sshmm.A.bytes() for sshmm in sshmms]) / len(sshmms), 1)])\n",
    "report.append(['B Size', round(sum([sshmm.B.size() for sshmm in sshmms]) / len(sshmms), 1)])\n",
    "report.append(['B Non-Zero', round(sum([sshmm.B.nonzero() for sshmm in sshmms]) / len(sshmms), 1)])\n",
    "report.append(['B Sparsity', round(sum([sshmm.B.sparsity() for sshmm in sshmms]) / len(sshmms), 1)])\n",
    "report.append(['B bytes', round(sum([sshmm.B.bytes() for sshmm in sshmms]) / len(sshmms), 1)])"
   ]
  },
  {
   "cell_type": "code",
   "execution_count": 8,
   "metadata": {},
   "outputs": [
    {
     "data": {
      "text/plain": [
       "[['Model DB', 'BigO_L01'],\n",
       " ['Run Date', datetime.datetime(2021, 4, 30, 20, 6, 8, 870064)],\n",
       " ['Dataset', 'AMPdsR1_1min_A'],\n",
       " ['Precision', 10.0],\n",
       " ['Max States', 4],\n",
       " ['Denoised?', False],\n",
       " ['Model Noise?', False],\n",
       " ['Folds', 1],\n",
       " ['IDs', 'BME'],\n",
       " ['Train Time', 0.15],\n",
       " ['Avg Time/Fold', 0.15],\n",
       " ['Avg Load States', 4.0],\n",
       " ['Sum Load States', 4.0],\n",
       " ['Super-States', 4.0],\n",
       " ['Loads', 1],\n",
       " ['Obs', 2001],\n",
       " ['Time Len', 524544],\n",
       " ['P0 Size', 4.0],\n",
       " ['P0 Non-Zero', 4.0],\n",
       " ['P0 Sparsity', 0.0],\n",
       " ['P0 bytes', 352.0],\n",
       " ['A Size', 16.0],\n",
       " ['A Non-Zero', 16.0],\n",
       " ['A Sparsity', 0.0],\n",
       " ['A bytes', 288.0],\n",
       " ['B Size', 8004.0],\n",
       " ['B Non-Zero', 2117.0],\n",
       " ['B Sparsity', 0.7],\n",
       " ['B bytes', 3052.0]]"
      ]
     },
     "execution_count": 8,
     "metadata": {},
     "output_type": "execute_result"
    }
   ],
   "source": [
    "report"
   ]
  },
  {
   "cell_type": "code",
   "execution_count": 9,
   "metadata": {},
   "outputs": [
    {
     "name": "stdout",
     "output_type": "stream",
     "text": [
      "-------------------------------- CSV REPORTING --------------------------------\n",
      "\n",
      "Model DB,Run Date,Dataset,Precision,Max States,Denoised?,Model Noise?,Folds,IDs,Train Time,Avg Time/Fold,Avg Load States,Sum Load States,Super-States,Loads,Obs,Time Len,P0 Size,P0 Non-Zero,P0 Sparsity,P0 bytes,A Size,A Non-Zero,A Sparsity,A bytes,B Size,B Non-Zero,B Sparsity,B bytes\n",
      "BigO_L01,2021-04-30 20:06:08.870064,AMPdsR1_1min_A,10.0,4,False,False,1,BME,0.15,0.15,4.0,4.0,4.0,1,2001,524544,4.0,4.0,0.0,352.0,16.0,16.0,0.0,288.0,8004.0,2117.0,0.7,3052.0\n"
     ]
    }
   ],
   "source": [
    "print('-------------------------------- CSV REPORTING --------------------------------')\n",
    "print()\n",
    "print(','.join([c[0] for c in report]))\n",
    "print(','.join([str(c[1]) for c in report]))"
   ]
  },
  {
   "cell_type": "code",
   "execution_count": 10,
   "metadata": {},
   "outputs": [],
   "source": [
    "#TEST Viterbi VITERBI\n",
    "# python test_Algorithm.py bVa_BigO_L01 BigO_L01 AMPds_1min_A 10 A noisy 8 Viterbi > logs/bVa_BigO_L01.log"
   ]
  },
  {
   "cell_type": "code",
   "execution_count": 11,
   "metadata": {},
   "outputs": [],
   "source": [
    "test_id ='bVa_BigO_L01'\n",
    "precision = float(10)\n",
    "measure = 'A'\n",
    "denoised = 'noisy'\n",
    "limit = 8\n",
    "algo_name = 'Viterbi'\n",
    "# limit = int(limit)\n",
    "disagg_algo = getattr(__import__('algo_' + algo_name, fromlist=['disagg_algo']), 'disagg_algo')"
   ]
  },
  {
   "cell_type": "code",
   "execution_count": 12,
   "metadata": {},
   "outputs": [
    {
     "name": "stdout",
     "output_type": "stream",
     "text": [
      "Using disaggregation algorithm disagg_algo() from algo_Viterbi.py.\n"
     ]
    }
   ],
   "source": [
    "print('Using disaggregation algorithm disagg_algo() from %s.' % ('algo_' + algo_name + '.py'))\n",
    "\n",
    "datasets_dir = './datasets/%s.csv'\n",
    "logs_dir = './logs/%s.log'\n",
    "models_dir = './models/%s.json'"
   ]
  },
  {
   "cell_type": "code",
   "execution_count": 13,
   "metadata": {},
   "outputs": [
    {
     "name": "stdout",
     "output_type": "stream",
     "text": [
      "Loading saved model BigO_L01 from JSON storage (./models/BigO_L01.json)...\n",
      "\tModel set for 1-fold cross-validation.\n",
      "\tLoading JSON data into SSHMM objects...\n"
     ]
    }
   ],
   "source": [
    "print('Loading saved model %s from JSON storage (%s)...' % (modeldb, models_dir % modeldb))\n",
    "fp = open(models_dir % modeldb, 'r')\n",
    "jdata = json.load(fp)\n",
    "fp.close()\n",
    "folds = len(jdata)\n",
    "print('\\tModel set for %d-fold cross-validation.' % folds)\n",
    "print('\\tLoading JSON data into SSHMM objects...')"
   ]
  },
  {
   "cell_type": "code",
   "execution_count": 14,
   "metadata": {},
   "outputs": [
    {
     "name": "stdout",
     "output_type": "stream",
     "text": [
      "\tModel lables are:  ['BME']\n"
     ]
    }
   ],
   "source": [
    "sshmms = []\n",
    "for data in jdata:\n",
    "    sshmm = SuperStateHMM()\n",
    "    sshmm._fromdict(data)\n",
    "    sshmms.append(sshmm)\n",
    "del jdata\n",
    "labels = sshmms[0].labels\n",
    "print('\\tModel lables are: ', labels)"
   ]
  },
  {
   "cell_type": "code",
   "execution_count": 15,
   "metadata": {},
   "outputs": [
    {
     "name": "stdout",
     "output_type": "stream",
     "text": [
      "Testing Viterbi algorithm load disagg...\n"
     ]
    }
   ],
   "source": [
    "print('Testing %s algorithm load disagg...' % algo_name)\n",
    "acc = Accuracy(len(labels), folds)\n",
    "test_times = []\n",
    "indv_tm_sum = 0.0\n",
    "indv_count = 0\n",
    "y_noise = 0.0\n",
    "y_total = 0.0\n",
    "calc_done = [0,0]\n",
    "calc_total = [0,0]\n",
    "unexpected_event = 0\n",
    "adapted_event = 0\n",
    "adapted_errors = 0\n",
    "multi_switches_count = 0"
   ]
  },
  {
   "cell_type": "code",
   "execution_count": 16,
   "metadata": {},
   "outputs": [
    {
     "name": "stdout",
     "output_type": "stream",
     "text": [
      "\n",
      "Loading AMPds R1 dataset at ./datasets/AMPdsR1_1min_A.csv...\n",
      "\tSetting timestamp column TimeStamp as index.\n",
      "\tModfity data with precision 10.000000 then convert to int...\n",
      "\tKeeping only columns ['BME'].\n",
      "\tDenoising aggregate meter column WHE.\n",
      "\tCalculating unmetered column UNE.\n",
      "\n",
      "Created 1 fold: 524544.\n",
      "\n",
      "\n",
      "************************ VALIDATION ROUND:  1/ 1 ************************\n",
      "\n",
      "Building priors and testing datasets...\n",
      "\n",
      "Begin evaluation testing on observations, compare against ground truth...\n",
      "\n",
      "\tCompleted  1/ 1: [=                   ], Disagg rate:     0.000000 sec/sample \n",
      "\n",
      " *** LIMIT SET: Only testing 8 obs. Testing ends now!\n",
      "\n"
     ]
    }
   ],
   "source": [
    "folds = Folding(dataset_loader(datasets_dir % dataset, labels, precision, denoised), folds)\n",
    "for (fold, priors, testing) in folds: \n",
    "    del priors\n",
    "    tm_start = time()\n",
    "    \n",
    "    sshmm = sshmms[fold]\n",
    "    obs_id = list(testing)[0]\n",
    "    obs = list(testing[obs_id])\n",
    "    hidden = [i for i in testing[labels].to_records(index=False)]\n",
    "    \n",
    "    print()\n",
    "    print('Begin evaluation testing on observations, compare against ground truth...')\n",
    "    print()\n",
    "    pbar = ''\n",
    "    pbar_incro = len(testing) // 20\n",
    "    for i in range(1, len(obs)):\n",
    "        multi_switches_count += (sum([i != j for (i, j) in list(zip(hidden[i - 1], hidden[i]))]) > 1)\n",
    "        \n",
    "        y0 = obs[i - 1]\n",
    "        y1 = obs[i]\n",
    "        \n",
    "        start = time() \n",
    "        (p, k, Pt, cdone, ctotal) = disagg_algo(sshmm, [y0, y1])\n",
    "        elapsed = (time() - start)\n",
    "\n",
    "        s_est = sshmm.detangle_k(k)\n",
    "        y_est = sshmm.y_estimate(s_est, breakdown=True)\n",
    "        \n",
    "        y_true = hidden[i]\n",
    "        s_true = sshmm.obs_to_bins(y_true)\n",
    "\n",
    "        acc.classification_result(fold, s_est, s_true, sshmm.Km)\n",
    "        acc.measurement_result(fold, y_est, y_true)\n",
    "\n",
    "        calc_done[0] += cdone[0]\n",
    "        calc_done[1] += cdone[1]\n",
    "        calc_total[0] += ctotal[0]\n",
    "        calc_total[1] += ctotal[1]\n",
    "        \n",
    "        if p == 0.0:\n",
    "            unexpected_event += 1\n",
    "            \n",
    "        indv_tm_sum += elapsed\n",
    "        indv_count += 1\n",
    "        \n",
    "        y_noise += round(y1 - sum(y_true), 1)\n",
    "        y_total += y1\n",
    "        \n",
    "        if not i % pbar_incro or i == 1:\n",
    "            pbar += '=' #if i > 1 else ''\n",
    "            disagg_rate = float(indv_tm_sum) / float(indv_count)\n",
    "            print('\\r\\tCompleted %2d/%2d: [%-20s], Disagg rate: %12.6f sec/sample ' % (fold + 1, folds.folds, pbar[:20], disagg_rate), end='', flush=True)\n",
    "            sys.stdout.flush()\n",
    "\n",
    "        if limit != 'all' and i >= limit:\n",
    "            print('\\n\\n *** LIMIT SET: Only testing %d obs. Testing ends now!' % limit)\n",
    "            break;\n",
    "                \n",
    "    test_times.append((time() - tm_start) / 60)\n",
    "\n",
    "    if limit != 'all' and i >= limit:\n",
    "        break;"
   ]
  },
  {
   "cell_type": "code",
   "execution_count": 17,
   "metadata": {},
   "outputs": [
    {
     "name": "stdout",
     "output_type": "stream",
     "text": [
      "\n",
      "Evaluation and accuracy testing complete:\n",
      "\tTest Time was 0.01  min (avg  0.01  min/fold).\n",
      "\tOptimization (Time) - Viterbi Part 1: 0.0 % saved,  32 calculations (average 4.0 calculations each time)\n",
      "\tOptimization (Time) - Viterbi Part 2: 0.0 % saved,  128 calculations (average 16.0 calculations each time)\n",
      "\tUnexpected events = 8 , Multiple switch events = 0 , Adapted events = 0 (errors = 0 )\n",
      "\n",
      "\n",
      "Classification & Esitmation Accuracies (Test bVa_BigO_L01):\n",
      "\n",
      "\tAccuracy     =   0.00% (8 incorrect tests)\n",
      "\tPrecision    =   0.00%\n",
      "\tRecall       =   0.00%\n",
      "\tF-Score      =   0.00%\n",
      "\n",
      "\tM Precision  =   0.00%\n",
      "\tM Recall     =   0.00%\n",
      "\tM F-Score    =   0.00%\n",
      "\n",
      "\tFS Precision =   0.00%\n",
      "\tFS Recall    =   0.00%\n",
      "\tFS F-Score   =   0.00%\n",
      "\n",
      "\tNDE          = 100.00%\n",
      "\tMAPE         =   0.00%\n",
      "\tRMSE         =   1.00\n",
      "\tEsitmation   =   0.00% (8.0 A difference)\n",
      "\n",
      "\t|----------|----------|---------|-----------|-----------|----------|-------------------------------|------------|-------------------|\n",
      "\t|          |          |         |           |           |          | FINITE-STATE MODIFICATIONS:   |            | PRECENT OF TOTAL: |\n",
      "\t| item ID  | ACCURACY |     NDE |    MAPE   |   F-SCORE | M-FSCORE | PRECISION |  RECALL | F-SCORE | ESITMATION |     EST |   TRUTH |\n",
      "\t|----------|----------|---------|-----------|-----------|----------|-----------|---------|---------|------------|---------|---------|\n",
      "\t| BME      |    0.00% | 100.00% |     0.00% |     0.00% |    0.00% |     0.00% |   0.00% |   0.00% |      0.00% |   0.00% | 100.00% |\n",
      "\t|----------|----------|---------|-----------|-----------|----------|-----------|---------|---------|------------|=========|=========|\n",
      "\t                                                                                                                | 100.00% | 100.00% |\n",
      "\t                                                                                                                |---------|---------|\n",
      "\n",
      "\n"
     ]
    }
   ],
   "source": [
    "print('Evaluation and accuracy testing complete:')\n",
    "disagg_rate = indv_tm_sum / indv_count\n",
    "print('\\tTest Time was', round(sum(test_times), 2), ' min (avg ', round(sum(test_times) / len(test_times), 2), ' min/fold).')\n",
    "if calc_total[0] > 0 and calc_total[1] > 0:\n",
    "    print('\\tOptimization (Time) - Viterbi Part 1:',  round((calc_total[0] - calc_done[0]) / calc_total[0] * 100, 2), '% saved, ', format(calc_done[0], ',d'), 'calculations (average', round(calc_done[0] / indv_count, 1), 'calculations each time)')\n",
    "    print('\\tOptimization (Time) - Viterbi Part 2:',  round((calc_total[1] - calc_done[1]) / calc_total[1] * 100, 2), '% saved, ', format(calc_done[1], ',d'), 'calculations (average', round(calc_done[1] / indv_count, 1), 'calculations each time)')\n",
    "else:\n",
    "    print('\\tOptimization (Time): NOT BEING TRACKED!')\n",
    "print('\\tUnexpected events =', unexpected_event, ', Multiple switch events =', multi_switches_count, ', Adapted events =', adapted_event, '(errors =', adapted_errors, ')')\n",
    "\n",
    "acc.print(test_id, labels, measure)\n",
    "\n",
    "report = []\n",
    "report.append(['Test ID', test_id])\n",
    "report.append(['Run Date', datetime.now()])\n",
    "report.append(['Dataset', dataset])\n",
    "report.append(['Precision', precision])\n",
    "report.append(['Denoised?', denoised])\n",
    "report.append(['Model Noise?', ('UNE' in labels)])\n",
    "report.append(['Limit', limit])\n",
    "report.append(['Algorithm', algo_name])\n",
    "report.append(['Folds', folds.folds])\n",
    "report.append(['Measure', measure])\n",
    "report.append(['Tests', indv_count])\n",
    "report.append(['Total Calc Vp1', calc_total[0]])\n",
    "report.append(['Actual Calc Vp1', calc_done[0]])\n",
    "report.append(['Total Calc Vp2', calc_total[1]])\n",
    "report.append(['Actual Calc Vp2', calc_done[1]])\n",
    "report.append(['Test Time', round(sum(test_times), 2)])\n",
    "report.append(['Avg Time/Fold', round(sum(test_times) / len(test_times), 2)])\n",
    "report.append(['Disagg Time', '{0:.10f}'.format(disagg_rate)])\n",
    "report.append(['Unexpected', unexpected_event])\n",
    "report.append(['Adapted', adapted_event])\n",
    "report.append(['Adapted Errors', adapted_errors])\n",
    "report.append(['Mult-Switches', multi_switches_count])\n",
    "report.append(['Noise', round(y_noise / y_total, 4)])"
   ]
  },
  {
   "cell_type": "code",
   "execution_count": 18,
   "metadata": {},
   "outputs": [
    {
     "name": "stdout",
     "output_type": "stream",
     "text": [
      "\n",
      "-------------------------------- CSV REPORTING --------------------------------\n",
      "\n",
      "Test ID,Run Date,Dataset,Precision,Denoised?,Model Noise?,Limit,Algorithm,Folds,Measure,Tests,Total Calc Vp1,Actual Calc Vp1,Total Calc Vp2,Actual Calc Vp2,Test Time,Avg Time/Fold,Disagg Time,Unexpected,Adapted,Adapted Errors,Mult-Switches,Noise\n",
      "bVa_BigO_L01,2021-04-30 20:06:10.780468,AMPdsR1_1min_A,10.0,noisy,False,8,Viterbi,1,A,8,32,32,128,128,0.01,0.01,0.0001246333,8,0,0,0,0.0\n",
      "\n",
      "Test ID,Item,Correct,Incorrect,TP,Inacc,APT,ITP,TN,FP,FN,Basic Acc,Precision,Recall,F-Score,M Precision,M Recall,M F-Score,FS Precision,FS Recall,FS F-Score,RMSE,NDE,MAPE,Kolter,Est Acc,Estimated,Actual,Diff,Est of Total,Actual of Total\n",
      "bVa_BigO_L01,*TL,0,8,0,0.0,0,0,0,0,8,0.0,0,0.0,0,0,0.0,0,0,0.0,0,1.0,1.0,0.0,0.5,0.0,0.0,8.0,8.0,0,1.0\n",
      "bVa_BigO_L01,BME,0,8,0,0.0,0,0,0,0,8,0.0,0,0.0,0,0,0.0,0,0,0.0,0,1.0,1.0,0.0,0.5,0.0,0.0,8.0,8.0,0,1.0\n",
      "\n",
      "\n",
      "-------------------------------- ------------- --------------------------------\n",
      "\n",
      "End Time =  2021-04-30 20:06:10.788447 (local time)\n",
      "\n",
      "DONE!!!\n",
      "\n"
     ]
    }
   ],
   "source": [
    "print('-------------------------------- CSV REPORTING --------------------------------')\n",
    "print()\n",
    "print(','.join([c[0] for c in report]))\n",
    "print(','.join([str(c[1]) for c in report]))\n",
    "print()\n",
    "(acc_hdr, acc_det) = acc.csv(test_id, labels, measure)\n",
    "print(acc_hdr)\n",
    "print(acc_det)\n",
    "print()\n",
    "print('-------------------------------- ------------- --------------------------------')\n",
    "\n",
    "print()\n",
    "print('End Time = ', datetime.now(), '(local time)')\n",
    "print()\n",
    "print('DONE!!!')"
   ]
  }
 ],
 "metadata": {
  "kernelspec": {
   "display_name": "Python 3",
   "language": "python",
   "name": "python3"
  },
  "language_info": {
   "codemirror_mode": {
    "name": "ipython",
    "version": 3
   },
   "file_extension": ".py",
   "mimetype": "text/x-python",
   "name": "python",
   "nbconvert_exporter": "python",
   "pygments_lexer": "ipython3",
   "version": "3.7.0"
  }
 },
 "nbformat": 4,
 "nbformat_minor": 1
}
